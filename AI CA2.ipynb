{
 "cells": [
  {
   "cell_type": "markdown",
   "id": "b628a015",
   "metadata": {},
   "source": [
    "# Year 4 AI CA2 Joshua Seymour N00181604"
   ]
  },
  {
   "cell_type": "code",
   "execution_count": 1,
   "id": "1200f4b4",
   "metadata": {},
   "outputs": [],
   "source": [
    "import pandas as pd\n",
    "import numpy as np\n",
    "import seaborn as sb\n",
    "import math\n",
    "from datetime import datetime, date\n",
    "import matplotlib.pyplot as plt\n",
    "from sklearn.preprocessing import LabelEncoder\n",
    "from sklearn import linear_model\n",
    "from sklearn import tree\n",
    "from sklearn.svm import SVC\n",
    "from sklearn.linear_model import LogisticRegression\n",
    "from sklearn.ensemble import RandomForestClassifier\n",
    "from sklearn.model_selection import train_test_split\n",
    "from sklearn.preprocessing import MinMaxScaler"
   ]
  },
  {
   "cell_type": "markdown",
   "id": "f86705eb",
   "metadata": {},
   "source": [
    "# Reading in CSV and dropping un-needed columns"
   ]
  },
  {
   "cell_type": "code",
   "execution_count": 2,
   "id": "2009f64b",
   "metadata": {},
   "outputs": [
    {
     "data": {
      "text/html": [
       "<div>\n",
       "<style scoped>\n",
       "    .dataframe tbody tr th:only-of-type {\n",
       "        vertical-align: middle;\n",
       "    }\n",
       "\n",
       "    .dataframe tbody tr th {\n",
       "        vertical-align: top;\n",
       "    }\n",
       "\n",
       "    .dataframe thead th {\n",
       "        text-align: right;\n",
       "    }\n",
       "</style>\n",
       "<table border=\"1\" class=\"dataframe\">\n",
       "  <thead>\n",
       "    <tr style=\"text-align: right;\">\n",
       "      <th></th>\n",
       "      <th>Suburb</th>\n",
       "      <th>Rooms</th>\n",
       "      <th>Type</th>\n",
       "      <th>Price</th>\n",
       "      <th>Method</th>\n",
       "      <th>SellerG</th>\n",
       "      <th>Date</th>\n",
       "      <th>Distance</th>\n",
       "      <th>Postcode</th>\n",
       "      <th>Bedroom</th>\n",
       "      <th>Bathroom</th>\n",
       "      <th>Car</th>\n",
       "      <th>Landsize</th>\n",
       "      <th>BuildingArea</th>\n",
       "      <th>YearBuilt</th>\n",
       "      <th>Regionname</th>\n",
       "      <th>Propertycount</th>\n",
       "    </tr>\n",
       "  </thead>\n",
       "  <tbody>\n",
       "    <tr>\n",
       "      <th>0</th>\n",
       "      <td>Abbotsford</td>\n",
       "      <td>2</td>\n",
       "      <td>h</td>\n",
       "      <td>1480000</td>\n",
       "      <td>S</td>\n",
       "      <td>Biggin</td>\n",
       "      <td>03/12/2016</td>\n",
       "      <td>2.5</td>\n",
       "      <td>3067</td>\n",
       "      <td>2</td>\n",
       "      <td>1</td>\n",
       "      <td>1.0</td>\n",
       "      <td>202</td>\n",
       "      <td>NaN</td>\n",
       "      <td>NaN</td>\n",
       "      <td>Northern Metropolitan</td>\n",
       "      <td>4019</td>\n",
       "    </tr>\n",
       "    <tr>\n",
       "      <th>1</th>\n",
       "      <td>Abbotsford</td>\n",
       "      <td>2</td>\n",
       "      <td>h</td>\n",
       "      <td>1035000</td>\n",
       "      <td>S</td>\n",
       "      <td>Biggin</td>\n",
       "      <td>04/02/2016</td>\n",
       "      <td>2.5</td>\n",
       "      <td>3067</td>\n",
       "      <td>2</td>\n",
       "      <td>1</td>\n",
       "      <td>0.0</td>\n",
       "      <td>156</td>\n",
       "      <td>79.0</td>\n",
       "      <td>1900.0</td>\n",
       "      <td>Northern Metropolitan</td>\n",
       "      <td>4019</td>\n",
       "    </tr>\n",
       "    <tr>\n",
       "      <th>2</th>\n",
       "      <td>Abbotsford</td>\n",
       "      <td>3</td>\n",
       "      <td>h</td>\n",
       "      <td>1465000</td>\n",
       "      <td>SP</td>\n",
       "      <td>Biggin</td>\n",
       "      <td>04/03/2017</td>\n",
       "      <td>2.5</td>\n",
       "      <td>3067</td>\n",
       "      <td>3</td>\n",
       "      <td>2</td>\n",
       "      <td>0.0</td>\n",
       "      <td>134</td>\n",
       "      <td>150.0</td>\n",
       "      <td>1900.0</td>\n",
       "      <td>Northern Metropolitan</td>\n",
       "      <td>4019</td>\n",
       "    </tr>\n",
       "    <tr>\n",
       "      <th>3</th>\n",
       "      <td>Abbotsford</td>\n",
       "      <td>3</td>\n",
       "      <td>h</td>\n",
       "      <td>850000</td>\n",
       "      <td>PI</td>\n",
       "      <td>Biggin</td>\n",
       "      <td>04/03/2017</td>\n",
       "      <td>2.5</td>\n",
       "      <td>3067</td>\n",
       "      <td>3</td>\n",
       "      <td>2</td>\n",
       "      <td>1.0</td>\n",
       "      <td>94</td>\n",
       "      <td>NaN</td>\n",
       "      <td>NaN</td>\n",
       "      <td>Northern Metropolitan</td>\n",
       "      <td>4019</td>\n",
       "    </tr>\n",
       "    <tr>\n",
       "      <th>4</th>\n",
       "      <td>Abbotsford</td>\n",
       "      <td>4</td>\n",
       "      <td>h</td>\n",
       "      <td>1600000</td>\n",
       "      <td>VB</td>\n",
       "      <td>Nelson</td>\n",
       "      <td>04/06/2016</td>\n",
       "      <td>2.5</td>\n",
       "      <td>3067</td>\n",
       "      <td>3</td>\n",
       "      <td>1</td>\n",
       "      <td>2.0</td>\n",
       "      <td>120</td>\n",
       "      <td>142.0</td>\n",
       "      <td>2014.0</td>\n",
       "      <td>Northern Metropolitan</td>\n",
       "      <td>4019</td>\n",
       "    </tr>\n",
       "  </tbody>\n",
       "</table>\n",
       "</div>"
      ],
      "text/plain": [
       "       Suburb  Rooms Type    Price Method SellerG        Date  Distance  \\\n",
       "0  Abbotsford      2    h  1480000      S  Biggin  03/12/2016       2.5   \n",
       "1  Abbotsford      2    h  1035000      S  Biggin  04/02/2016       2.5   \n",
       "2  Abbotsford      3    h  1465000     SP  Biggin  04/03/2017       2.5   \n",
       "3  Abbotsford      3    h   850000     PI  Biggin  04/03/2017       2.5   \n",
       "4  Abbotsford      4    h  1600000     VB  Nelson  04/06/2016       2.5   \n",
       "\n",
       "   Postcode  Bedroom  Bathroom  Car  Landsize  BuildingArea  YearBuilt  \\\n",
       "0      3067        2         1  1.0       202           NaN        NaN   \n",
       "1      3067        2         1  0.0       156          79.0     1900.0   \n",
       "2      3067        3         2  0.0       134         150.0     1900.0   \n",
       "3      3067        3         2  1.0        94           NaN        NaN   \n",
       "4      3067        3         1  2.0       120         142.0     2014.0   \n",
       "\n",
       "              Regionname  Propertycount  \n",
       "0  Northern Metropolitan           4019  \n",
       "1  Northern Metropolitan           4019  \n",
       "2  Northern Metropolitan           4019  \n",
       "3  Northern Metropolitan           4019  \n",
       "4  Northern Metropolitan           4019  "
      ]
     },
     "execution_count": 2,
     "metadata": {},
     "output_type": "execute_result"
    }
   ],
   "source": [
    "data = pd.read_csv('melb_data.csv')\n",
    "\n",
    "newData = data.drop(['Address', 'Lattitude', 'Longtitude',  'CouncilArea'], axis = 'columns')\n",
    "newData.head(5)\n",
    "#CouncilArea is too similar to Suburb to keep.\n",
    "#Address, Lattitude and Longtitude are too specific and un-needed."
   ]
  },
  {
   "cell_type": "code",
   "execution_count": 3,
   "id": "27b0eaf3",
   "metadata": {},
   "outputs": [
    {
     "data": {
      "text/plain": [
       "6450"
      ]
     },
     "execution_count": 3,
     "metadata": {},
     "output_type": "execute_result"
    }
   ],
   "source": [
    "newData['BuildingArea'].isna().sum()\n",
    "#checking how many NaN / Null values for BuildingArea (6450)"
   ]
  },
  {
   "cell_type": "code",
   "execution_count": 4,
   "id": "a172cd07",
   "metadata": {},
   "outputs": [
    {
     "data": {
      "text/plain": [
       "0"
      ]
     },
     "execution_count": 4,
     "metadata": {},
     "output_type": "execute_result"
    }
   ],
   "source": [
    "newData['Landsize'].isna().sum()\n",
    "#checking how many NaN / Null values for Landsize (0)"
   ]
  },
  {
   "cell_type": "code",
   "execution_count": 5,
   "id": "7ea6935c",
   "metadata": {},
   "outputs": [
    {
     "data": {
      "text/plain": [
       "5375"
      ]
     },
     "execution_count": 5,
     "metadata": {},
     "output_type": "execute_result"
    }
   ],
   "source": [
    "newData['YearBuilt'].isna().sum()\n",
    "#checking how many NaN / Null values for YearBuilt (5375)"
   ]
  },
  {
   "cell_type": "code",
   "execution_count": 6,
   "id": "854afa86",
   "metadata": {},
   "outputs": [
    {
     "data": {
      "text/plain": [
       "False    13517\n",
       "True        62\n",
       "Name: Car, dtype: int64"
      ]
     },
     "execution_count": 6,
     "metadata": {},
     "output_type": "execute_result"
    }
   ],
   "source": [
    "newData['Car'].isna().value_counts()\n",
    "#checking how many NaN / Null values for Car (62)"
   ]
  },
  {
   "cell_type": "markdown",
   "id": "8aba2bbd",
   "metadata": {},
   "source": [
    "# Car has only 62 NaN / Null values so I will be useing the median of car to fill in any missing values."
   ]
  },
  {
   "cell_type": "code",
   "execution_count": 7,
   "id": "df80fe2b",
   "metadata": {},
   "outputs": [],
   "source": [
    "median_car = newData['Car'].median()\n",
    "median_car\n",
    "\n",
    "newData['Car'] = newData['Car'].fillna(median_car)"
   ]
  },
  {
   "cell_type": "code",
   "execution_count": 8,
   "id": "fbd2de3f",
   "metadata": {},
   "outputs": [
    {
     "data": {
      "text/plain": [
       "<AxesSubplot:>"
      ]
     },
     "execution_count": 8,
     "metadata": {},
     "output_type": "execute_result"
    },
    {
     "data": {
      "image/png": "[encoded data removed]",
      "text/plain": [
       "<Figure size 720x720 with 2 Axes>"
      ]
     },
     "metadata": {
      "needs_background": "light"
     },
     "output_type": "display_data"
    }
   ],
   "source": [
    "corr = newData.corr()\n",
    "plt.figure(figsize=(10,10))\n",
    "sb.heatmap(corr, annot=True, linewidth = 0.5)"
   ]
  },
  {
   "cell_type": "markdown",
   "id": "1f24c760",
   "metadata": {},
   "source": [
    "# Cleaning YearBuilt Column of missing values and adding an Age column from YearBuilt"
   ]
  },
  {
   "cell_type": "code",
   "execution_count": 9,
   "id": "3494701f",
   "metadata": {
    "scrolled": false
   },
   "outputs": [],
   "source": [
    "#Adding the median of Year built to missing values as there is a low negative correlation to price\n",
    "median_year_built = newData['YearBuilt'].median()\n",
    "median_year_built\n",
    "#changing Null /NaN values to the median of YearBuilt\n",
    "newData['YearBuilt'] = newData['YearBuilt'].fillna(median_year_built)\n",
    "\n",
    "#Adding an age column from YearBuilt\n",
    "def age(born):\n",
    "    today = date.today()\n",
    "    return today.year - born\n",
    "\n",
    "newData['Age'] = newData['YearBuilt'].apply(age)"
   ]
  },
  {
   "cell_type": "markdown",
   "id": "12a717bf",
   "metadata": {},
   "source": [
    "# I drop YearBuilt as there is now an Age Column"
   ]
  },
  {
   "cell_type": "code",
   "execution_count": 10,
   "id": "c0369343",
   "metadata": {},
   "outputs": [],
   "source": [
    "newData = newData.drop(['YearBuilt'], axis='columns')"
   ]
  },
  {
   "cell_type": "code",
   "execution_count": 11,
   "id": "b5618e1a",
   "metadata": {},
   "outputs": [
    {
     "data": {
      "text/plain": [
       "52.0     6241\n",
       "62.0      725\n",
       "72.0      580\n",
       "122.0     341\n",
       "42.0      338\n",
       "         ... \n",
       "90.0        1\n",
       "166.0       1\n",
       "145.0       1\n",
       "126.0       1\n",
       "150.0       1\n",
       "Name: Age, Length: 143, dtype: int64"
      ]
     },
     "execution_count": 11,
     "metadata": {},
     "output_type": "execute_result"
    }
   ],
   "source": [
    "newData['Age'].value_counts()"
   ]
  },
  {
   "cell_type": "code",
   "execution_count": 12,
   "id": "c71c0e70",
   "metadata": {},
   "outputs": [
    {
     "data": {
      "text/plain": [
       "<AxesSubplot:>"
      ]
     },
     "execution_count": 12,
     "metadata": {},
     "output_type": "execute_result"
    },
    {
     "data": {
      "image/png": "[encoded data removed]",
      "text/plain": [
       "<Figure size 720x720 with 2 Axes>"
      ]
     },
     "metadata": {
      "needs_background": "light"
     },
     "output_type": "display_data"
    }
   ],
   "source": [
    "corr = newData.corr()\n",
    "plt.figure(figsize=(10,10))\n",
    "sb.heatmap(corr, annot=True, linewidth = 0.5)"
   ]
  },
  {
   "cell_type": "code",
   "execution_count": 13,
   "id": "c27828e4",
   "metadata": {},
   "outputs": [
    {
     "data": {
      "text/plain": [
       "Southern Metropolitan         4695\n",
       "Northern Metropolitan         3890\n",
       "Western Metropolitan          2948\n",
       "Eastern Metropolitan          1470\n",
       "South-Eastern Metropolitan     450\n",
       "Eastern Victoria                53\n",
       "Northern Victoria               41\n",
       "Western Victoria                32\n",
       "Name: Regionname, dtype: int64"
      ]
     },
     "execution_count": 13,
     "metadata": {},
     "output_type": "execute_result"
    }
   ],
   "source": [
    "newData['Regionname'].value_counts()"
   ]
  },
  {
   "cell_type": "markdown",
   "id": "2bb1987d",
   "metadata": {},
   "source": [
    "# From the above heatmap Landsize and BuildingArea have very low correlation to anything.\n",
    "# Regionname is too general an area, Suburb will provide more useful information than Regionname."
   ]
  },
  {
   "cell_type": "code",
   "execution_count": 14,
   "id": "f38d5f94",
   "metadata": {},
   "outputs": [],
   "source": [
    "newData = newData.drop(['Landsize', 'BuildingArea', 'Date', 'Regionname'], axis = 'columns')"
   ]
  },
  {
   "cell_type": "markdown",
   "id": "18c8ebe1",
   "metadata": {},
   "source": [
    "# Finding how many unique values are in each of the following"
   ]
  },
  {
   "cell_type": "code",
   "execution_count": 15,
   "id": "a8018795",
   "metadata": {},
   "outputs": [
    {
     "data": {
      "text/plain": [
       "h    9448\n",
       "u    3017\n",
       "t    1114\n",
       "Name: Type, dtype: int64"
      ]
     },
     "execution_count": 15,
     "metadata": {},
     "output_type": "execute_result"
    }
   ],
   "source": [
    "newData['Type'].value_counts()"
   ]
  },
  {
   "cell_type": "code",
   "execution_count": 16,
   "id": "34ea275c",
   "metadata": {},
   "outputs": [
    {
     "data": {
      "text/plain": [
       "S     9022\n",
       "SP    1703\n",
       "PI    1564\n",
       "VB    1198\n",
       "SA      92\n",
       "Name: Method, dtype: int64"
      ]
     },
     "execution_count": 16,
     "metadata": {},
     "output_type": "execute_result"
    }
   ],
   "source": [
    "newData['Method'].value_counts()"
   ]
  },
  {
   "cell_type": "code",
   "execution_count": 17,
   "id": "638a95fd",
   "metadata": {},
   "outputs": [
    {
     "data": {
      "text/plain": [
       "Nelson              1565\n",
       "Jellis              1316\n",
       "hockingstuart       1167\n",
       "Barry               1011\n",
       "Ray                  701\n",
       "                    ... \n",
       "Bowman                 1\n",
       "Buxton/Advantage       1\n",
       "Clairmont              1\n",
       "White                  1\n",
       "North                  1\n",
       "Name: SellerG, Length: 268, dtype: int64"
      ]
     },
     "execution_count": 17,
     "metadata": {},
     "output_type": "execute_result"
    }
   ],
   "source": [
    "newData['SellerG'].value_counts()"
   ]
  },
  {
   "cell_type": "code",
   "execution_count": 18,
   "id": "7eb5855f",
   "metadata": {},
   "outputs": [
    {
     "data": {
      "text/plain": [
       "Reservoir         359\n",
       "Richmond          260\n",
       "Bentleigh East    249\n",
       "Preston           239\n",
       "Brunswick         222\n",
       "                 ... \n",
       "Whittlesea          1\n",
       "Bacchus Marsh       1\n",
       "Sandhurst           1\n",
       "Rockbank            1\n",
       "Attwood             1\n",
       "Name: Suburb, Length: 314, dtype: int64"
      ]
     },
     "execution_count": 18,
     "metadata": {},
     "output_type": "execute_result"
    }
   ],
   "source": [
    "newData['Suburb'].value_counts()"
   ]
  },
  {
   "cell_type": "code",
   "execution_count": 19,
   "id": "7a68257a",
   "metadata": {},
   "outputs": [
    {
     "data": {
      "text/plain": [
       "3073    359\n",
       "3020    306\n",
       "3121    292\n",
       "3040    290\n",
       "3046    284\n",
       "       ... \n",
       "3438      1\n",
       "3756      1\n",
       "3782      1\n",
       "3340      1\n",
       "3158      1\n",
       "Name: Postcode, Length: 198, dtype: int64"
      ]
     },
     "execution_count": 19,
     "metadata": {},
     "output_type": "execute_result"
    }
   ],
   "source": [
    "newData['Postcode'].value_counts()"
   ]
  },
  {
   "cell_type": "markdown",
   "id": "f98455ba",
   "metadata": {},
   "source": [
    "# Postcode is too similar to Suburb so i will drop it."
   ]
  },
  {
   "cell_type": "code",
   "execution_count": 20,
   "id": "3b7c13bc",
   "metadata": {},
   "outputs": [],
   "source": [
    "newData = newData.drop(['Postcode'], axis = 'columns')"
   ]
  },
  {
   "cell_type": "code",
   "execution_count": 21,
   "id": "1331e92d",
   "metadata": {},
   "outputs": [],
   "source": [
    "inputs = newData.drop(['Rooms','Price','Distance','Bedroom','Bathroom','Car', 'Age','Propertycount'], axis = 1)"
   ]
  },
  {
   "cell_type": "markdown",
   "id": "89b56cf4",
   "metadata": {},
   "source": [
    "# Using Label Encoder to give a number to each unique name in the following columns."
   ]
  },
  {
   "cell_type": "code",
   "execution_count": 22,
   "id": "62b85386",
   "metadata": {},
   "outputs": [],
   "source": [
    "le_suburb = LabelEncoder()\n",
    "le_type = LabelEncoder()\n",
    "le_method = LabelEncoder()\n",
    "le_sellerg = LabelEncoder()"
   ]
  },
  {
   "cell_type": "code",
   "execution_count": 23,
   "id": "de752ec2",
   "metadata": {},
   "outputs": [
    {
     "data": {
      "text/html": [
       "<div>\n",
       "<style scoped>\n",
       "    .dataframe tbody tr th:only-of-type {\n",
       "        vertical-align: middle;\n",
       "    }\n",
       "\n",
       "    .dataframe tbody tr th {\n",
       "        vertical-align: top;\n",
       "    }\n",
       "\n",
       "    .dataframe thead th {\n",
       "        text-align: right;\n",
       "    }\n",
       "</style>\n",
       "<table border=\"1\" class=\"dataframe\">\n",
       "  <thead>\n",
       "    <tr style=\"text-align: right;\">\n",
       "      <th></th>\n",
       "      <th>Suburb</th>\n",
       "      <th>Type</th>\n",
       "      <th>Method</th>\n",
       "      <th>SellerG</th>\n",
       "      <th>suburb_n</th>\n",
       "      <th>type_n</th>\n",
       "      <th>method_n</th>\n",
       "      <th>sellerg_n</th>\n",
       "    </tr>\n",
       "  </thead>\n",
       "  <tbody>\n",
       "    <tr>\n",
       "      <th>0</th>\n",
       "      <td>Abbotsford</td>\n",
       "      <td>h</td>\n",
       "      <td>S</td>\n",
       "      <td>Biggin</td>\n",
       "      <td>0</td>\n",
       "      <td>0</td>\n",
       "      <td>1</td>\n",
       "      <td>23</td>\n",
       "    </tr>\n",
       "    <tr>\n",
       "      <th>1</th>\n",
       "      <td>Abbotsford</td>\n",
       "      <td>h</td>\n",
       "      <td>S</td>\n",
       "      <td>Biggin</td>\n",
       "      <td>0</td>\n",
       "      <td>0</td>\n",
       "      <td>1</td>\n",
       "      <td>23</td>\n",
       "    </tr>\n",
       "    <tr>\n",
       "      <th>2</th>\n",
       "      <td>Abbotsford</td>\n",
       "      <td>h</td>\n",
       "      <td>SP</td>\n",
       "      <td>Biggin</td>\n",
       "      <td>0</td>\n",
       "      <td>0</td>\n",
       "      <td>3</td>\n",
       "      <td>23</td>\n",
       "    </tr>\n",
       "    <tr>\n",
       "      <th>3</th>\n",
       "      <td>Abbotsford</td>\n",
       "      <td>h</td>\n",
       "      <td>PI</td>\n",
       "      <td>Biggin</td>\n",
       "      <td>0</td>\n",
       "      <td>0</td>\n",
       "      <td>0</td>\n",
       "      <td>23</td>\n",
       "    </tr>\n",
       "    <tr>\n",
       "      <th>4</th>\n",
       "      <td>Abbotsford</td>\n",
       "      <td>h</td>\n",
       "      <td>VB</td>\n",
       "      <td>Nelson</td>\n",
       "      <td>0</td>\n",
       "      <td>0</td>\n",
       "      <td>4</td>\n",
       "      <td>155</td>\n",
       "    </tr>\n",
       "    <tr>\n",
       "      <th>...</th>\n",
       "      <td>...</td>\n",
       "      <td>...</td>\n",
       "      <td>...</td>\n",
       "      <td>...</td>\n",
       "      <td>...</td>\n",
       "      <td>...</td>\n",
       "      <td>...</td>\n",
       "      <td>...</td>\n",
       "    </tr>\n",
       "    <tr>\n",
       "      <th>13574</th>\n",
       "      <td>Wheelers Hill</td>\n",
       "      <td>h</td>\n",
       "      <td>S</td>\n",
       "      <td>Barry</td>\n",
       "      <td>302</td>\n",
       "      <td>0</td>\n",
       "      <td>1</td>\n",
       "      <td>16</td>\n",
       "    </tr>\n",
       "    <tr>\n",
       "      <th>13575</th>\n",
       "      <td>Williamstown</td>\n",
       "      <td>h</td>\n",
       "      <td>SP</td>\n",
       "      <td>Williams</td>\n",
       "      <td>305</td>\n",
       "      <td>0</td>\n",
       "      <td>3</td>\n",
       "      <td>251</td>\n",
       "    </tr>\n",
       "    <tr>\n",
       "      <th>13576</th>\n",
       "      <td>Williamstown</td>\n",
       "      <td>h</td>\n",
       "      <td>S</td>\n",
       "      <td>Raine</td>\n",
       "      <td>305</td>\n",
       "      <td>0</td>\n",
       "      <td>1</td>\n",
       "      <td>194</td>\n",
       "    </tr>\n",
       "    <tr>\n",
       "      <th>13577</th>\n",
       "      <td>Williamstown</td>\n",
       "      <td>h</td>\n",
       "      <td>PI</td>\n",
       "      <td>Sweeney</td>\n",
       "      <td>305</td>\n",
       "      <td>0</td>\n",
       "      <td>0</td>\n",
       "      <td>222</td>\n",
       "    </tr>\n",
       "    <tr>\n",
       "      <th>13578</th>\n",
       "      <td>Yarraville</td>\n",
       "      <td>h</td>\n",
       "      <td>SP</td>\n",
       "      <td>Village</td>\n",
       "      <td>313</td>\n",
       "      <td>0</td>\n",
       "      <td>3</td>\n",
       "      <td>239</td>\n",
       "    </tr>\n",
       "  </tbody>\n",
       "</table>\n",
       "<p>13579 rows × 8 columns</p>\n",
       "</div>"
      ],
      "text/plain": [
       "              Suburb Type Method   SellerG  suburb_n  type_n  method_n  \\\n",
       "0         Abbotsford    h      S    Biggin         0       0         1   \n",
       "1         Abbotsford    h      S    Biggin         0       0         1   \n",
       "2         Abbotsford    h     SP    Biggin         0       0         3   \n",
       "3         Abbotsford    h     PI    Biggin         0       0         0   \n",
       "4         Abbotsford    h     VB    Nelson         0       0         4   \n",
       "...              ...  ...    ...       ...       ...     ...       ...   \n",
       "13574  Wheelers Hill    h      S     Barry       302       0         1   \n",
       "13575   Williamstown    h     SP  Williams       305       0         3   \n",
       "13576   Williamstown    h      S     Raine       305       0         1   \n",
       "13577   Williamstown    h     PI   Sweeney       305       0         0   \n",
       "13578     Yarraville    h     SP   Village       313       0         3   \n",
       "\n",
       "       sellerg_n  \n",
       "0             23  \n",
       "1             23  \n",
       "2             23  \n",
       "3             23  \n",
       "4            155  \n",
       "...          ...  \n",
       "13574         16  \n",
       "13575        251  \n",
       "13576        194  \n",
       "13577        222  \n",
       "13578        239  \n",
       "\n",
       "[13579 rows x 8 columns]"
      ]
     },
     "execution_count": 23,
     "metadata": {},
     "output_type": "execute_result"
    }
   ],
   "source": [
    "inputs['suburb_n'] = le_suburb.fit_transform(inputs['Suburb'])\n",
    "inputs['type_n'] = le_type.fit_transform(inputs['Type'])\n",
    "inputs['method_n'] = le_method.fit_transform(inputs['Method'])\n",
    "inputs['sellerg_n'] = le_sellerg.fit_transform(inputs['SellerG'])\n",
    "inputs"
   ]
  },
  {
   "cell_type": "markdown",
   "id": "bad73204",
   "metadata": {},
   "source": [
    "# Joining LabelEncoder numbers onto newData"
   ]
  },
  {
   "cell_type": "code",
   "execution_count": 24,
   "id": "73269309",
   "metadata": {},
   "outputs": [],
   "source": [
    "inputs_n = inputs.drop(['Suburb','Type','Method','SellerG'], axis='columns')\n",
    "newData = newData.join(inputs_n)"
   ]
  },
  {
   "cell_type": "markdown",
   "id": "8078e42b",
   "metadata": {},
   "source": [
    "# Min max scaling the Propertycount data"
   ]
  },
  {
   "cell_type": "code",
   "execution_count": 25,
   "id": "efa9ac36",
   "metadata": {},
   "outputs": [
    {
     "data": {
      "text/plain": [
       "array([[0.17615999],\n",
       "       [0.17615999],\n",
       "       [0.17615999],\n",
       "       ...,\n",
       "       [0.28648194],\n",
       "       [0.28648194],\n",
       "       [0.29409841]])"
      ]
     },
     "execution_count": 25,
     "metadata": {},
     "output_type": "execute_result"
    }
   ],
   "source": [
    "propCount = newData[['Propertycount']]\n",
    "scaler = MinMaxScaler()\n",
    "rescaledPropCount = scaler.fit_transform(propCount)\n",
    "rescaledPropCount"
   ]
  },
  {
   "cell_type": "markdown",
   "id": "13d9af89",
   "metadata": {},
   "source": [
    "Not scalingProperty count made the prediction more accurate."
   ]
  },
  {
   "cell_type": "code",
   "execution_count": 26,
   "id": "5892e4f9",
   "metadata": {},
   "outputs": [],
   "source": [
    "#newData['ScaledPropertycount'] = rescaledPropCount"
   ]
  },
  {
   "cell_type": "code",
   "execution_count": 27,
   "id": "8d033e40",
   "metadata": {},
   "outputs": [],
   "source": [
    "newData = newData.drop(['Suburb', 'Type', 'Method','SellerG'], axis = 'columns')"
   ]
  },
  {
   "cell_type": "code",
   "execution_count": 28,
   "id": "6e109ac5",
   "metadata": {},
   "outputs": [],
   "source": [
    "X = newData[['Rooms','Bedroom','Bathroom','Distance','Car', 'Age','Propertycount','suburb_n','type_n','method_n','sellerg_n']]\n",
    "y = newData.Price  "
   ]
  },
  {
   "cell_type": "code",
   "execution_count": 29,
   "id": "52ed16f6",
   "metadata": {},
   "outputs": [],
   "source": [
    "X_train, X_test, y_train, y_test = train_test_split(X,y,test_size=0.2)"
   ]
  },
  {
   "cell_type": "markdown",
   "id": "f6f18aa6",
   "metadata": {},
   "source": [
    "# Using test train split with Linear Regression"
   ]
  },
  {
   "cell_type": "code",
   "execution_count": 30,
   "id": "2935294e",
   "metadata": {},
   "outputs": [],
   "source": [
    "clf = linear_model.LinearRegression()"
   ]
  },
  {
   "cell_type": "code",
   "execution_count": 31,
   "id": "b9509408",
   "metadata": {},
   "outputs": [
    {
     "data": {
      "text/plain": [
       "LinearRegression()"
      ]
     },
     "execution_count": 31,
     "metadata": {},
     "output_type": "execute_result"
    }
   ],
   "source": [
    "clf.fit(X_train,y_train)"
   ]
  },
  {
   "cell_type": "code",
   "execution_count": 32,
   "id": "17a77b42",
   "metadata": {},
   "outputs": [
    {
     "data": {
      "text/plain": [
       "0.4362686937325553"
      ]
     },
     "execution_count": 32,
     "metadata": {},
     "output_type": "execute_result"
    }
   ],
   "source": [
    "clf.score(X_test,y_test)"
   ]
  },
  {
   "cell_type": "markdown",
   "id": "7a04faa0",
   "metadata": {},
   "source": [
    "# Using test train split with Decision Tree"
   ]
  },
  {
   "cell_type": "code",
   "execution_count": 33,
   "id": "1c948307",
   "metadata": {},
   "outputs": [],
   "source": [
    "model = tree.DecisionTreeClassifier()"
   ]
  },
  {
   "cell_type": "code",
   "execution_count": 34,
   "id": "0d2f7f7b",
   "metadata": {},
   "outputs": [
    {
     "data": {
      "text/plain": [
       "DecisionTreeClassifier()"
      ]
     },
     "execution_count": 34,
     "metadata": {},
     "output_type": "execute_result"
    }
   ],
   "source": [
    "model.fit(X_train,y_train)"
   ]
  },
  {
   "cell_type": "code",
   "execution_count": 35,
   "id": "4da35083",
   "metadata": {},
   "outputs": [
    {
     "data": {
      "text/plain": [
       "0.008100147275405008"
      ]
     },
     "execution_count": 35,
     "metadata": {},
     "output_type": "execute_result"
    }
   ],
   "source": [
    "model.score(X_test,y_test)"
   ]
  },
  {
   "cell_type": "markdown",
   "id": "d7a3b978",
   "metadata": {},
   "source": [
    "# Using Test train split with Support Vector Machine (SVM)"
   ]
  },
  {
   "cell_type": "code",
   "execution_count": 36,
   "id": "86901b65",
   "metadata": {},
   "outputs": [
    {
     "data": {
      "text/plain": [
       "SVC(C=10, gamma=100)"
      ]
     },
     "execution_count": 36,
     "metadata": {},
     "output_type": "execute_result"
    }
   ],
   "source": [
    "model1 = SVC(C=10, gamma=100)\n",
    "model1.fit(X_train,y_train)"
   ]
  },
  {
   "cell_type": "code",
   "execution_count": 37,
   "id": "791dce68",
   "metadata": {},
   "outputs": [
    {
     "data": {
      "text/plain": [
       "0.008100147275405008"
      ]
     },
     "execution_count": 37,
     "metadata": {},
     "output_type": "execute_result"
    }
   ],
   "source": [
    "model1.score(X_test,y_test)"
   ]
  },
  {
   "cell_type": "markdown",
   "id": "9f456abe",
   "metadata": {},
   "source": [
    "# Using Test train split with Random Forest"
   ]
  },
  {
   "cell_type": "code",
   "execution_count": 38,
   "id": "e68123e6",
   "metadata": {},
   "outputs": [
    {
     "data": {
      "text/plain": [
       "RandomForestClassifier(n_estimators=60)"
      ]
     },
     "execution_count": 38,
     "metadata": {},
     "output_type": "execute_result"
    }
   ],
   "source": [
    "model2 = RandomForestClassifier(n_estimators=60)\n",
    "model2.fit(X_train,y_train)"
   ]
  },
  {
   "cell_type": "code",
   "execution_count": 39,
   "id": "60f4b86e",
   "metadata": {},
   "outputs": [
    {
     "data": {
      "text/plain": [
       "0.010309278350515464"
      ]
     },
     "execution_count": 39,
     "metadata": {},
     "output_type": "execute_result"
    }
   ],
   "source": [
    "model2.score(X_test,y_test)"
   ]
  }
 ],
 "metadata": {
  "kernelspec": {
   "display_name": "Python 3",
   "language": "python",
   "name": "python3"
  },
  "language_info": {
   "codemirror_mode": {
    "name": "ipython",
    "version": 3
   },
   "file_extension": ".py",
   "mimetype": "text/x-python",
   "name": "python",
   "nbconvert_exporter": "python",
   "pygments_lexer": "ipython3",
   "version": "3.8.8"
  }
 },
 "nbformat": 4,
 "nbformat_minor": 5
}
